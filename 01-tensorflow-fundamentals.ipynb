{
 "cells": [
  {
   "cell_type": "markdown",
   "id": "6f9013e1-7d30-47cf-9887-ab411f1a2cc0",
   "metadata": {},
   "source": [
    "# Deep Learning with TensorFlow/Keras - Fundamentals\n",
    "\n",
    "Welcome 👋  \n",
    "\n",
    "In this notebook, we’ll cover the **basics of TensorFlow**, step by step.  \n",
    "This will give you a strong foundation before moving into Neural Networks.  \n",
    "\n",
    "\n",
    "##  Topics Covered\n",
    "1. Introduction to TensorFlow  \n",
    "2. What are Tensors?  \n",
    "3. Creating Tensors  \n",
    "4. Tensor Attributes (shape, dtype, ndim)  \n",
    "5. Converting between NumPy and TensorFlow  \n",
    "6. Basic Tensor Operations  \n",
    "7. GPU Support in TensorFlow  \n",
    "\n"
   ]
  },
  {
   "cell_type": "code",
   "execution_count": 1,
   "id": "850f6a03-3258-4daf-8b78-38fcda9c977a",
   "metadata": {},
   "outputs": [
    {
     "name": "stderr",
     "output_type": "stream",
     "text": [
      "ERROR: Could not find a version that satisfies the requirement tenserflow (from versions: none)\n",
      "ERROR: No matching distribution found for tenserflow\n"
     ]
    }
   ],
   "source": [
    "!pip install tenserflow\n"
   ]
  },
  {
   "cell_type": "markdown",
   "id": "1609a5e6-d7ec-4053-b613-fc031c25e618",
   "metadata": {},
   "source": [
    "## 2️⃣ What is a Tensor?\n",
    "\n",
    "- A **Tensor** is the main data structure in TensorFlow.\n",
    "- Think of it as a **multi-dimensional array** (like NumPy arrays).\n",
    "- Types of Tensors:\n",
    "  - Scalar (0D tensor) → single number\n",
    "  - Vector (1D tensor) → list of numbers\n",
    "  - Matrix (2D tensor) → table of numbers\n",
    "  - 3D/4D tensors → used for images, videos, etc.\n"
   ]
  },
  {
   "cell_type": "code",
   "execution_count": 2,
   "id": "5814dc0f-f920-4e8d-9a71-92d2092fe794",
   "metadata": {},
   "outputs": [],
   "source": [
    "import tensorflow as tf"
   ]
  },
  {
   "cell_type": "code",
   "execution_count": 3,
   "id": "266a7590-8063-459a-9edb-d5177e4b83f3",
   "metadata": {},
   "outputs": [
    {
     "name": "stdout",
     "output_type": "stream",
     "text": [
      "Scalar : tf.Tensor(10, shape=(), dtype=int32)\n"
     ]
    }
   ],
   "source": [
    "# Example: Creating different tensors\n",
    "\n",
    "# Scalar (0D tensor)\n",
    "scalar = tf.constant(10)\n",
    "print(\"Scalar :\", scalar)"
   ]
  },
  {
   "cell_type": "code",
   "execution_count": 4,
   "id": "4c0fbad4-a482-4d33-8194-b28a69333244",
   "metadata": {},
   "outputs": [
    {
     "name": "stdout",
     "output_type": "stream",
     "text": [
      "Vector : tf.Tensor([1 2 3 4 5], shape=(5,), dtype=int32)\n"
     ]
    }
   ],
   "source": [
    "# Vector (1D tensor)\n",
    "vector = tf.constant([1,2,3,4,5])\n",
    "print(\"Vector :\", vector)"
   ]
  },
  {
   "cell_type": "code",
   "execution_count": 5,
   "id": "bc7bdb01-5be0-4406-a65b-054da181ec7c",
   "metadata": {},
   "outputs": [
    {
     "name": "stdout",
     "output_type": "stream",
     "text": [
      "Matrix:\n",
      " tf.Tensor(\n",
      "[[1 2]\n",
      " [3 4]], shape=(2, 2), dtype=int32)\n"
     ]
    }
   ],
   "source": [
    "# Matrix (2D tensor)\n",
    "matrix = tf.constant([[1, 2],\n",
    "                      [3, 4]])\n",
    "print(\"Matrix:\\n\", matrix)"
   ]
  },
  {
   "cell_type": "code",
   "execution_count": 6,
   "id": "ad24e798-b613-4ed5-83f1-c2effc21ce9c",
   "metadata": {},
   "outputs": [
    {
     "name": "stdout",
     "output_type": "stream",
     "text": [
      "3D Tensor:\n",
      " tf.Tensor(\n",
      "[[[1 2]\n",
      "  [3 4]]\n",
      "\n",
      " [[5 6]\n",
      "  [7 8]]], shape=(2, 2, 2), dtype=int32)\n"
     ]
    }
   ],
   "source": [
    "# 3D Tensor\n",
    "tensor3D = tf.constant([[[1, 2], [3, 4]],\n",
    "                        [[5, 6], [7, 8]]])\n",
    "print(\"3D Tensor:\\n\", tensor3D)"
   ]
  },
  {
   "cell_type": "markdown",
   "id": "c6836b33-4811-404d-bd62-5d635758fe85",
   "metadata": {},
   "source": [
    "## 3️⃣ Tensor Attributes\n",
    "\n",
    "Every tensor has:\n",
    "- `shape`: dimensions (rows × cols)\n",
    "- `ndim`: number of dimensions\n",
    "- `dtype`: data type\n"
   ]
  },
  {
   "cell_type": "code",
   "execution_count": 7,
   "id": "c94ccb22-cd75-4848-bd77-ef71b125fb94",
   "metadata": {},
   "outputs": [
    {
     "name": "stdout",
     "output_type": "stream",
     "text": [
      "Shape: (2, 2)\n",
      "Dimensions (ndim): 2\n",
      "Data type: <dtype: 'int32'>\n"
     ]
    }
   ],
   "source": [
    "# Print tensor shape, number of dimensions, and data type\n",
    "print(\"Shape:\", matrix.shape)\n",
    "print(\"Dimensions (ndim):\", matrix.ndim)\n",
    "print(\"Data type:\", matrix.dtype)"
   ]
  },
  {
   "cell_type": "code",
   "execution_count": 8,
   "id": "550b4ce4-1ae9-49cd-ab6a-501eaf2feb4b",
   "metadata": {},
   "outputs": [
    {
     "name": "stdout",
     "output_type": "stream",
     "text": [
      "Shape , Dimensions ,Data Type  (2, 2, 2) 3 <dtype: 'int32'>\n"
     ]
    }
   ],
   "source": [
    "print(\"Shape , Dimensions ,Data Type \", tensor3D.shape,tensor3D.ndim,tensor3D.dtype)"
   ]
  },
  {
   "cell_type": "code",
   "execution_count": 9,
   "id": "b58e4cfc-f85a-406e-b4f0-943f16880b13",
   "metadata": {},
   "outputs": [
    {
     "name": "stdout",
     "output_type": "stream",
     "text": [
      "Shape: (2, 2, 2), Dimensions: 3, Dtype: <dtype: 'int32'>\n"
     ]
    }
   ],
   "source": [
    "print(f\"Shape: {tensor3D.shape}, Dimensions: {tensor3D.ndim}, Dtype: {tensor3D.dtype}\")"
   ]
  },
  {
   "cell_type": "markdown",
   "id": "aba94e5a-88a3-40ed-9b33-bda7e694efc5",
   "metadata": {},
   "source": [
    "## 4️⃣ Creating Tensors with Different Functions\n"
   ]
  },
  {
   "cell_type": "code",
   "execution_count": 10,
   "id": "dab88172-1e72-4898-92e2-68aa7477e976",
   "metadata": {},
   "outputs": [
    {
     "name": "stdout",
     "output_type": "stream",
     "text": [
      "Matrix:  \n",
      " tf.Tensor(\n",
      "[[0. 0. 0.]\n",
      " [0. 0. 0.]\n",
      " [0. 0. 0.]], shape=(3, 3), dtype=float32)\n"
     ]
    }
   ],
   "source": [
    "zeros = tf.zeros([3,3])\n",
    "print(\"Matrix:  \\n\",zeros)"
   ]
  },
  {
   "cell_type": "code",
   "execution_count": 11,
   "id": "e4735b26-e986-4c03-968b-7bb32506b5cd",
   "metadata": {},
   "outputs": [
    {
     "name": "stdout",
     "output_type": "stream",
     "text": [
      "Ones:\n",
      " tf.Tensor(\n",
      "[[1. 1.]\n",
      " [1. 1.]], shape=(2, 2), dtype=float32)\n"
     ]
    }
   ],
   "source": [
    "# All ones\n",
    "ones = tf.ones([2, 2])\n",
    "print(\"Ones:\\n\", ones)"
   ]
  },
  {
   "cell_type": "code",
   "execution_count": 12,
   "id": "eee8e31d-216e-4961-b7ce-2f83ce5e7ef5",
   "metadata": {},
   "outputs": [
    {
     "name": "stdout",
     "output_type": "stream",
     "text": [
      "Random Normal:\n",
      " tf.Tensor(\n",
      "[[ 0.42513165  0.34251955 -1.7912805 ]\n",
      " [-0.929569   -0.07284962  0.95089126]\n",
      " [ 0.82725465  0.22842395 -0.67841035]], shape=(3, 3), dtype=float32)\n"
     ]
    }
   ],
   "source": [
    "# Random Normal distribution\n",
    "rand_normal = tf.random.normal([3, 3])\n",
    "print(\"Random Normal:\\n\", rand_normal)"
   ]
  },
  {
   "cell_type": "code",
   "execution_count": 13,
   "id": "16f3369c-5cb6-440d-8dc5-1017142b5ac7",
   "metadata": {},
   "outputs": [
    {
     "name": "stdout",
     "output_type": "stream",
     "text": [
      "Random Uniform:\n",
      " tf.Tensor(\n",
      "[[0.04910362 0.10736799 0.12693977]\n",
      " [0.8878485  0.9349129  0.27635837]\n",
      " [0.59007156 0.4554603  0.46764576]], shape=(3, 3), dtype=float32)\n"
     ]
    }
   ],
   "source": [
    "# Random Uniform distribution\n",
    "rand_uniform = tf.random.uniform([3, 3])\n",
    "print(\"Random Uniform:\\n\", rand_uniform)"
   ]
  },
  {
   "cell_type": "markdown",
   "id": "850d79b6-41b0-4e58-85f3-5196091b284f",
   "metadata": {},
   "source": [
    "## 5️⃣ NumPy ↔ TensorFlow Conversion"
   ]
  },
  {
   "cell_type": "code",
   "execution_count": 14,
   "id": "0c57556a-f486-4a60-aea9-23534f39cdc4",
   "metadata": {},
   "outputs": [
    {
     "name": "stdout",
     "output_type": "stream",
     "text": [
      "Tensor from NumPy: tf.Tensor([1 2 3 4], shape=(4,), dtype=int64)\n",
      "Back to NumPy: [1 2 3 4]\n"
     ]
    }
   ],
   "source": [
    "import numpy as np\n",
    "\n",
    "# NumPy → Tensor\n",
    "numpy_array = np.array([1, 2, 3, 4])\n",
    "tensor_from_numpy = tf.constant(numpy_array)\n",
    "print(\"Tensor from NumPy:\", tensor_from_numpy)\n",
    "\n",
    "# Tensor → NumPy\n",
    "back_to_numpy = tensor_from_numpy.numpy()\n",
    "print(\"Back to NumPy:\", back_to_numpy)"
   ]
  },
  {
   "cell_type": "markdown",
   "id": "bd1e5781-d420-422e-8b2a-3f90ab9350b2",
   "metadata": {},
   "source": [
    "## 6️⃣ Basic Tensor Operations\n"
   ]
  },
  {
   "cell_type": "code",
   "execution_count": 15,
   "id": "34fa14a1-dfee-4695-97f5-501dd295d19a",
   "metadata": {},
   "outputs": [],
   "source": [
    "a = tf.constant([1, 2, 3])\n",
    "b = tf.constant([4, 5, 6])"
   ]
  },
  {
   "cell_type": "code",
   "execution_count": 16,
   "id": "9694895c-f699-424e-998f-fd2933d7a36f",
   "metadata": {},
   "outputs": [
    {
     "name": "stdout",
     "output_type": "stream",
     "text": [
      "Addition: tf.Tensor([5 7 9], shape=(3,), dtype=int32)\n",
      "Subtraction: tf.Tensor([-3 -3 -3], shape=(3,), dtype=int32)\n",
      "Element-wise Multiplication: tf.Tensor([ 4 10 18], shape=(3,), dtype=int32)\n",
      "Element-wise Division: tf.Tensor([0.25 0.4  0.5 ], shape=(3,), dtype=float64)\n"
     ]
    }
   ],
   "source": [
    "print(\"Addition:\", a + b)\n",
    "print(\"Subtraction:\", a - b)\n",
    "print(\"Element-wise Multiplication:\", a * b)\n",
    "print(\"Element-wise Division:\", a / b)"
   ]
  },
  {
   "cell_type": "code",
   "execution_count": 17,
   "id": "845a48f6-9294-4c7a-8ca5-17e983c38455",
   "metadata": {},
   "outputs": [
    {
     "name": "stdout",
     "output_type": "stream",
     "text": [
      "Matrix Multiplication:\n",
      " tf.Tensor(\n",
      "[[19 22]\n",
      " [43 50]], shape=(2, 2), dtype=int32)\n"
     ]
    }
   ],
   "source": [
    "# Matrix multiplication\n",
    "mat1 = tf.constant([[1, 2],\n",
    "                    [3, 4]])\n",
    "mat2 = tf.constant([[5, 6],\n",
    "                    [7, 8]])\n",
    "print(\"Matrix Multiplication:\\n\", tf.matmul(mat1, mat2))"
   ]
  },
  {
   "cell_type": "code",
   "execution_count": 18,
   "id": "8991d712-34c4-4001-8b5a-5a6a953bdfe1",
   "metadata": {},
   "outputs": [
    {
     "name": "stdout",
     "output_type": "stream",
     "text": [
      "Matrix 1 (2x3):\n",
      " tf.Tensor(\n",
      "[[1 2 3]\n",
      " [4 5 6]], shape=(2, 3), dtype=int32)\n",
      "Matrix 2 (3x2):\n",
      " tf.Tensor(\n",
      "[[ 7  8]\n",
      " [ 9 10]\n",
      " [11 12]], shape=(3, 2), dtype=int32)\n",
      "Result (2x2):\n",
      " tf.Tensor(\n",
      "[[ 58  64]\n",
      " [139 154]], shape=(2, 2), dtype=int32)\n"
     ]
    }
   ],
   "source": [
    "import tensorflow as tf\n",
    "\n",
    "# 2x3 matrix\n",
    "mat1 = tf.constant([[1, 2, 3],\n",
    "                    [4, 5, 6]])\n",
    "\n",
    "# 3x2 matrix\n",
    "mat2 = tf.constant([[7, 8],\n",
    "                    [9, 10],\n",
    "                    [11, 12]])\n",
    "\n",
    "# Matrix multiplication\n",
    "result = tf.matmul(mat1, mat2)\n",
    "\n",
    "print(\"Matrix 1 (2x3):\\n\", mat1)\n",
    "print(\"Matrix 2 (3x2):\\n\", mat2)\n",
    "print(\"Result (2x2):\\n\", result)\n"
   ]
  },
  {
   "cell_type": "code",
   "execution_count": 19,
   "id": "a9394c33-c75e-4d70-ad43-a3162ad842e6",
   "metadata": {},
   "outputs": [
    {
     "name": "stdout",
     "output_type": "stream",
     "text": [
      "2D shape: (2, 3)\n",
      "3D shape: (2, 3, 2)\n",
      "Result shape: (2, 2, 2)\n",
      "tf.Tensor(\n",
      "[[[ 58  64]\n",
      "  [139 154]]\n",
      "\n",
      " [[ 22  28]\n",
      "  [ 49  64]]], shape=(2, 2, 2), dtype=int32)\n"
     ]
    }
   ],
   "source": [
    "import tensorflow as tf\n",
    "\n",
    "# 2D matrix (2x3)\n",
    "mat2D = tf.constant([[1, 2, 3],\n",
    "                     [4, 5, 6]])\n",
    "\n",
    "# 3D tensor: batch of 2 matrices, each (3x2)\n",
    "mat3D = tf.constant([[[7, 8],\n",
    "                      [9, 10],\n",
    "                      [11, 12]],\n",
    "\n",
    "                     [[1, 2],\n",
    "                      [3, 4],\n",
    "                      [5, 6]]])\n",
    "\n",
    "# Multiply\n",
    "result = tf.matmul(mat2D, mat3D)\n",
    "\n",
    "print(\"2D shape:\", mat2D.shape)\n",
    "print(\"3D shape:\", mat3D.shape)\n",
    "print(\"Result shape:\", result.shape)\n",
    "print(result)\n"
   ]
  },
  {
   "cell_type": "markdown",
   "id": "e9ebff01-9ff8-4144-af7d-0e27f96b3f7e",
   "metadata": {
    "jp-MarkdownHeadingCollapsed": true
   },
   "source": [
    "## 7️⃣ GPU Support\n",
    "\n",
    "TensorFlow can run computations on **CPU, GPU, or TPU**.\n",
    "\n",
    "- GPU is faster for deep learning.\n",
    "- Let’s check if GPU is available.\n"
   ]
  },
  {
   "cell_type": "code",
   "execution_count": 20,
   "id": "b6e5c9ab-c820-4547-a7de-596126292490",
   "metadata": {},
   "outputs": [
    {
     "name": "stdout",
     "output_type": "stream",
     "text": [
      "Available devices: [PhysicalDevice(name='/physical_device:CPU:0', device_type='CPU')]\n",
      "❌ GPU not found, running on CPU.\n"
     ]
    }
   ],
   "source": [
    "print(\"Available devices:\", tf.config.list_physical_devices())\n",
    "\n",
    "if tf.config.list_physical_devices('GPU'):\n",
    "    print(\"✅ GPU is available!\")\n",
    "else:\n",
    "    print(\"❌ GPU not found, running on CPU.\")\n"
   ]
  },
  {
   "cell_type": "markdown",
   "id": "28520009-5209-4905-b1d2-53f4c570c543",
   "metadata": {},
   "source": [
    "# ✅ Summary\n",
    "\n",
    "In this notebook, we learned:\n",
    "- What TensorFlow is\n",
    "- What tensors are\n",
    "- How to create tensors\n",
    "- Tensor attributes (shape, ndim, dtype)\n",
    "- Converting between NumPy and TensorFlow\n",
    "- Basic tensor operations\n",
    "- Checking for GPU support\n"
   ]
  },
  {
   "cell_type": "markdown",
   "id": "94ab757b-29dc-4fd1-9217-e228ae292336",
   "metadata": {},
   "source": [
    "# TensorFlow Autograd & Gradients\n",
    "\n",
    "In this section, we will learn about **automatic differentiation** in TensorFlow using `tf.GradientTape`.  \n",
    "This is very important because it’s how deep learning models *learn* — by calculating gradients (derivatives) and updating weights.\n",
    "\n",
    "---\n",
    "\n",
    "##  What is Autograd?\n",
    "- **Autograd** = automatic differentiation  \n",
    "- TensorFlow tracks all operations inside a `GradientTape` context.  \n",
    "- It can then compute derivatives (gradients) automatically.  \n",
    "- Used in **backpropagation** during neural network training.\n"
   ]
  },
  {
   "cell_type": "markdown",
   "id": "af388890-ef96-4226-ba6e-5b4543da313c",
   "metadata": {},
   "source": [
    "## 1️⃣ Gradient of a simple function\n"
   ]
  },
  {
   "cell_type": "code",
   "execution_count": 21,
   "id": "cf0282b8-dd85-40c0-8c86-96c95da5d919",
   "metadata": {},
   "outputs": [
    {
     "name": "stdout",
     "output_type": "stream",
     "text": [
      "Function: y = x^2 + 5x + 2\n",
      "At x = 3.0, dy/dx = 11.0\n"
     ]
    }
   ],
   "source": [
    "import tensorflow as tf\n",
    "\n",
    "# Define a variable\n",
    "x = tf.Variable(3.0)\n",
    "\n",
    "# Record the operations\n",
    "with tf.GradientTape() as tape:\n",
    "    y = x**2 + 5*x + 2   # simple quadratic function\n",
    "\n",
    "# Compute derivative dy/dx\n",
    "dy_dx = tape.gradient(y, x)\n",
    "\n",
    "print(\"Function: y = x^2 + 5x + 2\")\n",
    "print(\"At x = 3.0, dy/dx =\", dy_dx.numpy())\n"
   ]
  },
  {
   "cell_type": "code",
   "execution_count": 22,
   "id": "9faadac4-060d-4b0b-aa61-42a0ec395955",
   "metadata": {},
   "outputs": [
    {
     "name": "stdout",
     "output_type": "stream",
     "text": [
      "Function: f = x*z + x^2 + z^2\n",
      "df/dx = 7.0\n",
      "df/dz = 8.0\n"
     ]
    }
   ],
   "source": [
    "x = tf.Variable(2.0)\n",
    "z = tf.Variable(3.0)\n",
    "\n",
    "with tf.GradientTape() as tape:\n",
    "    f = x*z + x**2 + z**2   # multivariable function\n",
    "\n",
    "# Compute gradients\n",
    "df_dx, df_dz = tape.gradient(f, [x, z])\n",
    "\n",
    "print(\"Function: f = x*z + x^2 + z^2\")\n",
    "print(\"df/dx =\", df_dx.numpy())  # Expected: z + 2x = 3 + 4 = 7\n",
    "print(\"df/dz =\", df_dz.numpy())  # Expected: x + 2z = 2 + 6 = 8\n"
   ]
  },
  {
   "cell_type": "markdown",
   "id": "3cbba684-c3de-439c-954f-977f6f09625e",
   "metadata": {},
   "source": [
    "## 3️⃣ Gradient of non-linear functions"
   ]
  },
  {
   "cell_type": "code",
   "execution_count": 23,
   "id": "02a6f539-2c66-4265-84dd-2f569eae74df",
   "metadata": {},
   "outputs": [
    {
     "name": "stdout",
     "output_type": "stream",
     "text": [
      "Function: y = sin(x) + exp(x)\n",
      "At x = 1.0, dy/dx = 3.258584\n"
     ]
    }
   ],
   "source": [
    "x = tf.Variable(1.0)\n",
    "\n",
    "with tf.GradientTape() as tape:\n",
    "    y = tf.math.sin(x) + tf.math.exp(x)\n",
    "\n",
    "dy_dx = tape.gradient(y, x)\n",
    "\n",
    "print(\"Function: y = sin(x) + exp(x)\")\n",
    "print(\"At x = 1.0, dy/dx =\", dy_dx.numpy())\n"
   ]
  },
  {
   "cell_type": "markdown",
   "id": "f74eced9-ba42-4e89-b3c6-0f8037fe539e",
   "metadata": {},
   "source": [
    "## 4️⃣ Higher-order derivatives\n",
    "\n",
    "Sometimes we need second derivatives (curvature).  \n",
    "We can do this using `persistent=True` in `GradientTape`.\n"
   ]
  },
  {
   "cell_type": "code",
   "execution_count": 27,
   "id": "a0eada23-5d16-4abd-af9a-3f861df5daeb",
   "metadata": {},
   "outputs": [
    {
     "name": "stdout",
     "output_type": "stream",
     "text": [
      "y = x^3\n",
      "dy/dx = 12.0\n",
      "d²y/dx² = 12.0\n"
     ]
    }
   ],
   "source": [
    "import tensorflow as tf\n",
    "\n",
    "x = tf.Variable(2.0)\n",
    "\n",
    "with tf.GradientTape(persistent=True) as tape2:  # keep it alive\n",
    "    with tf.GradientTape() as tape1:             # inner tape\n",
    "        y = x**3\n",
    "    dy_dx = tape1.gradient(y, x)   # first derivative\n",
    "\n",
    "d2y_dx2 = tape2.gradient(dy_dx, x) # second derivative\n",
    "\n",
    "print(\"y = x^3\")\n",
    "print(\"dy/dx =\", dy_dx.numpy())      # 12\n",
    "print(\"d²y/dx² =\", d2y_dx2.numpy())  # 12\n"
   ]
  },
  {
   "cell_type": "code",
   "execution_count": null,
   "id": "d97f7c3b-ae73-4621-ab9e-dec344cf85e6",
   "metadata": {},
   "outputs": [],
   "source": []
  }
 ],
 "metadata": {
  "kernelspec": {
   "display_name": "Python 3 (ipykernel)",
   "language": "python",
   "name": "python3"
  },
  "language_info": {
   "codemirror_mode": {
    "name": "ipython",
    "version": 3
   },
   "file_extension": ".py",
   "mimetype": "text/x-python",
   "name": "python",
   "nbconvert_exporter": "python",
   "pygments_lexer": "ipython3",
   "version": "3.12.9"
  }
 },
 "nbformat": 4,
 "nbformat_minor": 5
}
